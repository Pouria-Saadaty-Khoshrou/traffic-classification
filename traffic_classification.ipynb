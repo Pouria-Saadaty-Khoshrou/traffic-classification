{
  "nbformat": 4,
  "nbformat_minor": 0,
  "metadata": {
    "colab": {
      "provenance": []
    },
    "kernelspec": {
      "name": "python3",
      "display_name": "Python 3"
    },
    "language_info": {
      "name": "python"
    }
  },
  "cells": [
    {
      "cell_type": "markdown",
      "source": [
        "Let's play with a traffic classification example. We will use a pre-cooked (subset of a) dataset containing traffic captures from different mobile applications.\n",
        "\n",
        "More information can be found on this paper:\n",
        "\n",
        "Y. Heng et al: \"UTMobileNetTraffic2021: A Labeled Public Network Traffic Dataset\"\n",
        "\n",
        "The file captures are contained in the 'traffic_captures' folder as CSV files. Each file is labeled with the application that was running on the mobile phone during the capture (ground truth label) and contains several header-only packet information. Let's open one of these file to have an idea of the content.\n",
        "\n"
      ],
      "metadata": {
        "id": "xKp-xx-UgcVq"
      }
    },
    {
      "cell_type": "code",
      "execution_count": null,
      "metadata": {
        "id": "Ajye0nOsgaAW"
      },
      "outputs": [],
      "source": [
        "from google.colab import drive\n",
        "import pandas as pd\n",
        "\n",
        "\n",
        "drive.mount('/content/drive')\n",
        "df = pd.read_csv('/content/drive/MyDrive/Colab Notebooks/3 - Traffic Classification/traffic_captures/dropbox_download_2019-03-16_11-46-54_5bd0c615.csv')\n",
        "\n",
        "#much easier than looping over all packets!\n",
        "df_tcp = df[df[\"ip.proto\"]==6]\n",
        "df_flows_tcp = df_tcp.groupby([\"ip.src\",\"ip.dst\",\"tcp.srcport\",\"tcp.dstport\"])\n",
        "\n",
        "for flow, df_flow in df_flows_tcp: #flow is a tuple representing the flow, df_flow is the dataframe with all packets of the flow\n",
        "  print(flow)\n",
        "  display(df_flow)"
      ]
    },
    {
      "cell_type": "markdown",
      "source": [
        "\n"
      ],
      "metadata": {
        "id": "x7iIh80Niwms"
      }
    },
    {
      "cell_type": "code",
      "source": [
        "def extract_features(flow,df_flow):\n",
        "  #compute flow features:\n",
        "  flow_features = {}\n",
        "  if(flow[0].split('.')[0]=='10'):\n",
        "    flow_features['direction'] = 'uplink'\n",
        "  else:\n",
        "    flow_features['direction'] = 'downlink'\n",
        "\n",
        "  flow_features['num_packets'] = len(df_flow);\n",
        "  pkt_sizes = df_flow['ip.len'].astype(float)\n",
        "  flow_features['total_bytes'] = pkt_sizes.sum()\n",
        "  flow_features['min_pkt_size'] = pkt_sizes.min()\n",
        "  flow_features['max_pkt_size'] = pkt_sizes.max()\n",
        "  flow_features['mean_pkt_size'] = pkt_sizes.mean()\n",
        "  flow_features['std_pkt_size'] = pkt_sizes.std()\n",
        "  iat = pd.to_datetime(df_flow['frame.time']).diff(1).dt.total_seconds().iloc[1:] #\n",
        "  flow_features['min_iat'] = iat.min()\n",
        "  flow_features['max_iat'] = iat.max()\n",
        "  flow_features['mean_iat'] = iat.mean()\n",
        "  flow_features['std_iat'] = iat.std()\n",
        "  flow_features['dur'] = iat.sum()\n",
        "  flow_features['dport'] = flow[3]\n",
        "  flow_features['sport'] = flow[2]\n",
        "  return flow_features\n",
        "\n",
        "df_udp = df[df[\"ip.proto\"]==17]\n",
        "df_tcp = df[df[\"ip.proto\"]==6]\n",
        "\n",
        "df_flows_udp = df_udp.groupby([\"ip.src\",\"ip.dst\",\"udp.srcport\",\"udp.dstport\"])\n",
        "df_flows_tcp = df_tcp.groupby([\"ip.src\",\"ip.dst\",\"tcp.srcport\",\"tcp.dstport\"])\n",
        "\n",
        "for flow,df_flow in df_flows_tcp: #flow is a tuple representing the flow, df_flow is the dataframe with all packets of the flow\n",
        "  flow_features = extract_features(flow,df_flow)\n",
        "  display(flow)\n",
        "  display(flow_features)\n",
        "\n",
        "\n"
      ],
      "metadata": {
        "id": "Fk-q-Q_XocjU"
      },
      "execution_count": null,
      "outputs": []
    },
    {
      "cell_type": "markdown",
      "source": [
        "Let's try to build a traffic classifier using only downlink TCP features. First, we will construct the dataset."
      ],
      "metadata": {
        "id": "wD1HM_IloXi_"
      }
    },
    {
      "cell_type": "code",
      "source": [
        "from os import listdir\n",
        "from os.path import isfile, join\n",
        "import numpy as np\n",
        "\n",
        "path = '/content/drive/MyDrive/Colab Notebooks/3 - Traffic Classification/traffic_captures/'\n",
        "tcpdumpfiles = [f for f in listdir(path) if isfile(join(path, f))]\n",
        "apps = np.unique([f.split('_')[0] for f in tcpdumpfiles])\n",
        "print(apps, len(apps), len(tcpdumpfiles))\n",
        "\n",
        "dataset = pd.DataFrame()\n",
        "for f in tcpdumpfiles:\n",
        "  print('Processing file  ', f)\n",
        "  df = pd.read_csv(join(path,f))\n",
        "  df_tcp = df[df[\"ip.proto\"]==6]\n",
        "  df_flows_tcp = df_tcp.groupby([\"ip.src\",\"ip.dst\",\"tcp.srcport\",\"tcp.dstport\"])\n",
        "  for flow,df_flow in df_flows_tcp: #flow is a tuple representing the flow, df_flow is the dataframe with all packets of the flow\n",
        "    flow_features = extract_features(flow,df_flow)\n",
        "    flow_features['app'] = f.split('_')[0];\n",
        "    if(flow_features['direction']=='downlink'):\n",
        "      dataset = dataset.append(flow_features,ignore_index=True);\n",
        "\n",
        "display(dataset)\n",
        "dataset.to_csv('/content/drive/MyDrive/Colab Notebooks/3 - Traffic Classification/traffic_classification_dataset.csv', index=False, line_terminator='\\n')"
      ],
      "metadata": {
        "id": "DBNj54F5oWkI"
      },
      "execution_count": null,
      "outputs": []
    },
    {
      "cell_type": "markdown",
      "source": [
        "Now, we'll divide our dataset in two parts. One will be used to train a classification model (the training set). We'll use 80% of data for that. The remaining 20% of data will be used to evaluate the performance of the classifier.."
      ],
      "metadata": {
        "id": "7-CWCw7V0JwN"
      }
    },
    {
      "cell_type": "code",
      "source": [
        "import numpy as np\n",
        "import matplotlib.pyplot as plt\n",
        "from sklearn.metrics import ConfusionMatrixDisplay\n",
        "\n",
        "\n",
        "X = dataset.drop(['direction','sport','dport'],axis=1).dropna();\n",
        "APP = X['app']\n",
        "X = X.drop(['app'],axis=1)\n",
        "\n",
        "idx = np.random.permutation(len(X))\n",
        "num_train_obs = np.floor(0.7*len(X))\n",
        "\n",
        "train_idx = idx[1:int(num_train_obs)]\n",
        "test_idx = idx[int(num_train_obs):]\n",
        "\n",
        "# normalization\n",
        "X_norm = pd.DataFrame()\n",
        "for key in X:\n",
        "  temp = X[key]\n",
        "  temp_norm = (temp-temp.mean())/temp.std();\n",
        "  X_norm[key] = temp_norm\n",
        "\n",
        "# split train / test\n",
        "X_norm_train = X_norm.iloc[train_idx]\n",
        "X_norm_test = X_norm.iloc[test_idx]\n",
        "\n",
        "APP_train = APP.iloc[train_idx]\n",
        "APP_test = APP.iloc[test_idx]\n",
        "\n",
        "#K-NN classifier: for each entry in the test set, search the closest entry in the train set and assign value!\n",
        "i = 0;\n",
        "accuracy = 0\n",
        "K = 10\n",
        "APP_test_predicted = []\n",
        "for index, row in X_norm_test.iterrows():\n",
        "  #test_entry = row.values.tolist()\n",
        "  distances = []\n",
        "  for ii, rr in X_norm_train.iterrows():\n",
        "    #train_entry = rr.values.tolist()\n",
        "    #distances.append(np.linalg.norm(np.array(test_entry)-np.array(train_entry)))\n",
        "    distances.append(np.linalg.norm(np.array(row.to_numpy() - rr.to_numpy())))\n",
        "\n",
        "  min_idx = np.argmin(distances)\n",
        "\n",
        "  #sorted_idx = np.argsort(distances)\n",
        "  #predicted_app = APP_train.iloc[sorted_idx[1:K+1]].mode()\n",
        "\n",
        "  predicted_app = APP_train.iloc[min_idx]\n",
        "  APP_test_predicted.append(predicted_app)\n",
        "  if(APP_test.iloc[i] == predicted_app):\n",
        "      accuracy = accuracy+1\n",
        "  i = i+1\n",
        "\n",
        "print(accuracy/len(APP_test))\n",
        "fig, ax = plt.subplots(figsize=(15, 15));\n",
        "ConfusionMatrixDisplay.from_predictions(APP_test_predicted, APP_test, ax=ax);\n"
      ],
      "metadata": {
        "colab": {
          "base_uri": "https://localhost:8080/",
          "height": 869
        },
        "id": "serHOxOQD8GD",
        "outputId": "16819f63-48c6-4722-c327-13b4976584ca"
      },
      "execution_count": null,
      "outputs": [
        {
          "output_type": "stream",
          "name": "stdout",
          "text": [
            "0.7673469387755102\n"
          ]
        },
        {
          "output_type": "display_data",
          "data": {
            "image/png": "[encoded data removed]",
            "text/plain": [
              "<Figure size 1080x1080 with 2 Axes>"
            ]
          },
          "metadata": {
            "needs_background": "light"
          }
        }
      ]
    },
    {
      "cell_type": "code",
      "source": [
        "import pandas as pd\n",
        "import matplotlib.pyplot as plt\n",
        "from sklearn.utils import resample\n",
        "\n",
        "\n",
        "from sklearn.model_selection import KFold, train_test_split, StratifiedKFold\n",
        "from sklearn.preprocessing import LabelEncoder, StandardScaler\n",
        "from sklearn.metrics import  classification_report\n",
        "from sklearn.metrics import confusion_matrix, ConfusionMatrixDisplay\n",
        "from sklearn.neighbors import KNeighborsClassifier\n",
        "from sklearn.ensemble import RandomForestClassifier\n",
        "from sklearn.naive_bayes import GaussianNB\n",
        "\n",
        "\n",
        "#constructing features\n",
        "le = LabelEncoder();\n",
        "scaler = StandardScaler();\n",
        "\n",
        "\n",
        "#using only traffic features\n",
        "X = dataset.drop(['direction','sport','dport'],axis=1).dropna();\n",
        "\n",
        "#port-based classification, usable port information is source port\n",
        "#X = dataset[['sport','app']]\n",
        "\n",
        "\n",
        "Y = le.fit_transform(X['app']);\n",
        "X = X.drop('app',axis=1);\n",
        "\n",
        "X_norm = scaler.fit_transform(X);\n",
        "\n",
        "#display(X);\n",
        "#display(Y);\n",
        "\n",
        "\n",
        "#now let's use a stratified k-fold cross validation approach with 5 splits\n",
        "tot_cm = np.zeros([len(apps),len(apps)])\n",
        "skf = StratifiedKFold(n_splits=5,shuffle=True)\n",
        "print('KNN')\n",
        "for train, test in skf.split(X_norm, Y):\n",
        "    knn = KNeighborsClassifier(n_neighbors=3)\n",
        "    knn.fit(X_norm[train], Y[train])\n",
        "    knn_predict = knn.predict(X_norm[test])\n",
        "    knn_report = classification_report(Y[test],knn_predict,target_names=le.inverse_transform(np.arange(len(apps))),digits=3,output_dict=True)\n",
        "    fold_accuracy = knn_report['accuracy']\n",
        "    print(fold_accuracy)\n",
        "    cm = confusion_matrix(Y[test],knn.predict(X_norm[test]))\n",
        "    tot_cm = tot_cm + cm;\n",
        "\n",
        "print('Random Forest')\n",
        "#other approach: a random forest classifier\n",
        "for train, test in skf.split(X_norm, Y):\n",
        "    clf = RandomForestClassifier()\n",
        "    clf.fit(X_norm[train], Y[train])\n",
        "    y_pred = clf.predict(X_norm[test])\n",
        "    clf_report = classification_report(Y[test],y_pred,target_names=le.inverse_transform(np.arange(len(apps))),digits=3,output_dict=True)\n",
        "    fold_accuracy = clf_report['accuracy']\n",
        "    print(fold_accuracy)\n",
        "    cm = confusion_matrix(Y[test],knn.predict(X_norm[test]))\n",
        "    tot_cm = tot_cm + cm;\n"
      ],
      "metadata": {
        "colab": {
          "base_uri": "https://localhost:8080/"
        },
        "id": "2ZvUZs41ziCA",
        "outputId": "5c4c630d-2353-4eb6-ab5c-0e213aecf90c"
      },
      "execution_count": null,
      "outputs": [
        {
          "output_type": "stream",
          "name": "stdout",
          "text": [
            "KNN\n",
            "0.7116564417177914\n",
            "0.7361963190184049\n",
            "0.6503067484662577\n",
            "0.7607361963190185\n",
            "0.7177914110429447\n",
            "Random Forest\n",
            "0.8159509202453987\n",
            "0.8159509202453987\n",
            "0.7730061349693251\n",
            "0.8588957055214724\n",
            "0.803680981595092\n"
          ]
        }
      ]
    },
    {
      "cell_type": "code",
      "source": [
        "fig, ax = plt.subplots(figsize=(15, 15));\n",
        "ConfusionMatrixDisplay.from_predictions(y_pred, Y[test], ax=ax, display_labels=le.inverse_transform(np.arange(len(apps))));\n"
      ],
      "metadata": {
        "colab": {
          "base_uri": "https://localhost:8080/",
          "height": 852
        },
        "id": "3-oKo0xYzFYF",
        "outputId": "768f70cb-e8b4-4cef-938f-f13c3b966c75"
      },
      "execution_count": null,
      "outputs": [
        {
          "output_type": "display_data",
          "data": {
            "image/png": "[encoded data removed]",
            "text/plain": [
              "<Figure size 1080x1080 with 2 Axes>"
            ]
          },
          "metadata": {
            "needs_background": "light"
          }
        }
      ]
    }
  ]
}